{
 "cells": [
  {
   "cell_type": "markdown",
   "metadata": {},
   "source": [
    "# Sentiment Scoring on real dataset"
   ]
  },
  {
   "cell_type": "code",
   "execution_count": 6,
   "metadata": {},
   "outputs": [],
   "source": [
    "import pandas as pd\n",
    "import re\n",
    "import textwrap\n",
    "\n",
    "import nltk\n",
    "from nltk.corpus import gutenberg\n",
    "\n",
    "from nltk.sentiment.vader import SentimentIntensityAnalyzer\n",
    "\n",
    "from textblob import TextBlob\n",
    "from textblob import Word\n",
    "\n",
    "from afinn import Afinn"
   ]
  },
  {
   "cell_type": "code",
   "execution_count": 7,
   "metadata": {},
   "outputs": [],
   "source": [
    "col_list=[\"date\", \"tweet\"]\n",
    "df = pd.read_csv(\"dataset/twitter-data-2.csv\", usecols=col_list, engine='python')\n",
    "#df"
   ]
  },
  {
   "cell_type": "code",
   "execution_count": 8,
   "metadata": {},
   "outputs": [
    {
     "data": {
      "text/html": [
       "<div>\n",
       "<style scoped>\n",
       "    .dataframe tbody tr th:only-of-type {\n",
       "        vertical-align: middle;\n",
       "    }\n",
       "\n",
       "    .dataframe tbody tr th {\n",
       "        vertical-align: top;\n",
       "    }\n",
       "\n",
       "    .dataframe thead th {\n",
       "        text-align: right;\n",
       "    }\n",
       "</style>\n",
       "<table border=\"1\" class=\"dataframe\">\n",
       "  <thead>\n",
       "    <tr style=\"text-align: right;\">\n",
       "      <th></th>\n",
       "      <th>date</th>\n",
       "      <th>tweet</th>\n",
       "    </tr>\n",
       "  </thead>\n",
       "  <tbody>\n",
       "    <tr>\n",
       "      <th>0</th>\n",
       "      <td>2020-03-16</td>\n",
       "      <td>please fucking explain to me how this was a bl...</td>\n",
       "    </tr>\n",
       "    <tr>\n",
       "      <th>1</th>\n",
       "      <td>2020-03-16</td>\n",
       "      <td>welcome to 2020</td>\n",
       "    </tr>\n",
       "    <tr>\n",
       "      <th>2</th>\n",
       "      <td>2020-03-15</td>\n",
       "      <td>I think hes a 10, don't worry Simon i got you.</td>\n",
       "    </tr>\n",
       "    <tr>\n",
       "      <th>3</th>\n",
       "      <td>2020-03-14</td>\n",
       "      <td></td>\n",
       "    </tr>\n",
       "    <tr>\n",
       "      <th>4</th>\n",
       "      <td>2020-03-14</td>\n",
       "      <td></td>\n",
       "    </tr>\n",
       "    <tr>\n",
       "      <th>...</th>\n",
       "      <td>...</td>\n",
       "      <td>...</td>\n",
       "    </tr>\n",
       "    <tr>\n",
       "      <th>6815</th>\n",
       "      <td>2019-04-02</td>\n",
       "      <td>Wow, all you had to do is say \"I know\" somebod...</td>\n",
       "    </tr>\n",
       "    <tr>\n",
       "      <th>6816</th>\n",
       "      <td>2019-04-02</td>\n",
       "      <td>Check the date.</td>\n",
       "    </tr>\n",
       "    <tr>\n",
       "      <th>6817</th>\n",
       "      <td>2019-04-02</td>\n",
       "      <td>Check date</td>\n",
       "    </tr>\n",
       "    <tr>\n",
       "      <th>6818</th>\n",
       "      <td>2019-04-02</td>\n",
       "      <td>Why buy a switch instead of a console...</td>\n",
       "    </tr>\n",
       "    <tr>\n",
       "      <th>6819</th>\n",
       "      <td>2019-04-01</td>\n",
       "      <td>ok</td>\n",
       "    </tr>\n",
       "  </tbody>\n",
       "</table>\n",
       "<p>6820 rows × 2 columns</p>\n",
       "</div>"
      ],
      "text/plain": [
       "            date                                              tweet\n",
       "0     2020-03-16  please fucking explain to me how this was a bl...\n",
       "1     2020-03-16                                    welcome to 2020\n",
       "2     2020-03-15     I think hes a 10, don't worry Simon i got you.\n",
       "3     2020-03-14                                                   \n",
       "4     2020-03-14                                                   \n",
       "...          ...                                                ...\n",
       "6815  2019-04-02  Wow, all you had to do is say \"I know\" somebod...\n",
       "6816  2019-04-02                                    Check the date.\n",
       "6817  2019-04-02                                         Check date\n",
       "6818  2019-04-02           Why buy a switch instead of a console...\n",
       "6819  2019-04-01                                                 ok\n",
       "\n",
       "[6820 rows x 2 columns]"
      ]
     },
     "execution_count": 8,
     "metadata": {},
     "output_type": "execute_result"
    }
   ],
   "source": [
    "#Remove http links from dataframe\n",
    "def remove_url(string):\n",
    "    result = re.sub(r\"http\\S+\", \"\",string)\n",
    "    result = re.sub(r\"pic.twitter.com\\S+\", \"\",string)\n",
    "    result=result.encode(\"ascii\",\"ignore\").decode()\n",
    "    return result\n",
    "\n",
    "df['tweet']=df['tweet'].fillna('').apply(lambda cw : remove_url(cw))\n",
    "df\n"
   ]
  },
  {
   "cell_type": "code",
   "execution_count": 9,
   "metadata": {},
   "outputs": [],
   "source": [
    "#Get SentimentPolarity for each tweet\n",
    "def getTextPolarity(txt):\n",
    "    return TextBlob(txt).sentiment.polarity\n",
    "\n",
    "# TextBlob Sentiment Scale -1 to +1\n",
    "\n",
    "df['Polarity'] = df['tweet'].apply(getTextPolarity)"
   ]
  },
  {
   "cell_type": "code",
   "execution_count": 10,
   "metadata": {},
   "outputs": [
    {
     "data": {
      "text/plain": [
       "0.0"
      ]
     },
     "execution_count": 10,
     "metadata": {},
     "output_type": "execute_result"
    }
   ],
   "source": [
    "sen = \"\"\"When learning data science, you shouldn't get discouraged!\n",
    "Challenges and setbacks aren't failures, they're just part of the journey. You've got this!\"\"\"\n",
    "TextBlob(sen).sentiment.polarity"
   ]
  },
  {
   "cell_type": "code",
   "execution_count": 11,
   "metadata": {},
   "outputs": [],
   "source": [
    "\n",
    "sid=SentimentIntensityAnalyzer()\n",
    "# Add a new column with Vader scores \n",
    "\n",
    "# Vader Scale -4 to +4\n",
    "\n",
    "df['VaderScore'] = (df['tweet'].apply(lambda review:sid.polarity_scores(review))).apply(lambda d:d['compound'])\n"
   ]
  },
  {
   "cell_type": "code",
   "execution_count": 12,
   "metadata": {},
   "outputs": [
    {
     "data": {
      "text/plain": [
       "{'neg': 0.048, 'neu': 0.744, 'pos': 0.208, 'compound': 0.6249}"
      ]
     },
     "execution_count": 12,
     "metadata": {},
     "output_type": "execute_result"
    }
   ],
   "source": [
    "sentence1=\"a society more adapted to consumerism than ideology\"\n",
    "sentence2 = \"\"\"When learning data science, you shouldn't get discouraged!\n",
    "Challenges and setbacks aren't failures, they're just part of the journey. You've got this!\"\"\"\n",
    "##sid.polarity_scores(sentence1)\n",
    "sid.polarity_scores(sentence2)\n"
   ]
  },
  {
   "cell_type": "code",
   "execution_count": 13,
   "metadata": {},
   "outputs": [],
   "source": [
    "af = Afinn()\n",
    "\n",
    "#Get SentimentPolarity for each tweet\n",
    "def getAfinnScore(txt):\n",
    "    return af.score(txt)\n",
    "\n",
    "# Afinn Scale -5 to +5\n",
    "\n",
    "df['AfinnScore'] = df['tweet'].apply(getAfinnScore)\n",
    "\n",
    "# or do the following with no function call\n",
    "#df['afinn_score_new'] = df['tweet'].apply(af.score)\n",
    "\n"
   ]
  },
  {
   "cell_type": "code",
   "execution_count": 16,
   "metadata": {},
   "outputs": [
    {
     "name": "stdout",
     "output_type": "stream",
     "text": [
      "3.0\n",
      "-5.0\n"
     ]
    },
    {
     "data": {
      "text/plain": [
       "0.0"
      ]
     },
     "execution_count": 16,
     "metadata": {},
     "output_type": "execute_result"
    }
   ],
   "source": [
    "s2= 'hes kind and smart'\n",
    "s3='we are kind to good people'\n",
    "s4='you are very depressed and dying'\n",
    "print(af.score(s2))\n",
    "print(af.score(s4))\n",
    "sentence=\"a society more adapted to consumerism than ideology\"\n",
    "af.score(sentence)"
   ]
  },
  {
   "cell_type": "code",
   "execution_count": 17,
   "metadata": {
    "scrolled": false
   },
   "outputs": [
    {
     "data": {
      "text/html": [
       "<div>\n",
       "<style scoped>\n",
       "    .dataframe tbody tr th:only-of-type {\n",
       "        vertical-align: middle;\n",
       "    }\n",
       "\n",
       "    .dataframe tbody tr th {\n",
       "        vertical-align: top;\n",
       "    }\n",
       "\n",
       "    .dataframe thead th {\n",
       "        text-align: right;\n",
       "    }\n",
       "</style>\n",
       "<table border=\"1\" class=\"dataframe\">\n",
       "  <thead>\n",
       "    <tr style=\"text-align: right;\">\n",
       "      <th></th>\n",
       "      <th>date</th>\n",
       "      <th>tweet</th>\n",
       "      <th>Polarity</th>\n",
       "      <th>VaderScore</th>\n",
       "      <th>AfinnScore</th>\n",
       "    </tr>\n",
       "  </thead>\n",
       "  <tbody>\n",
       "    <tr>\n",
       "      <th>0</th>\n",
       "      <td>2020-03-16</td>\n",
       "      <td>please fucking explain to me how this was a bl...</td>\n",
       "      <td>-0.6</td>\n",
       "      <td>0.6705</td>\n",
       "      <td>0.0</td>\n",
       "    </tr>\n",
       "    <tr>\n",
       "      <th>1</th>\n",
       "      <td>2020-03-16</td>\n",
       "      <td>welcome to 2020</td>\n",
       "      <td>0.8</td>\n",
       "      <td>0.4588</td>\n",
       "      <td>2.0</td>\n",
       "    </tr>\n",
       "    <tr>\n",
       "      <th>2</th>\n",
       "      <td>2020-03-15</td>\n",
       "      <td>I think hes a 10, don't worry Simon i got you.</td>\n",
       "      <td>0.0</td>\n",
       "      <td>0.3412</td>\n",
       "      <td>-3.0</td>\n",
       "    </tr>\n",
       "    <tr>\n",
       "      <th>3</th>\n",
       "      <td>2020-03-14</td>\n",
       "      <td></td>\n",
       "      <td>0.0</td>\n",
       "      <td>0.0000</td>\n",
       "      <td>0.0</td>\n",
       "    </tr>\n",
       "    <tr>\n",
       "      <th>4</th>\n",
       "      <td>2020-03-14</td>\n",
       "      <td></td>\n",
       "      <td>0.0</td>\n",
       "      <td>0.0000</td>\n",
       "      <td>0.0</td>\n",
       "    </tr>\n",
       "    <tr>\n",
       "      <th>...</th>\n",
       "      <td>...</td>\n",
       "      <td>...</td>\n",
       "      <td>...</td>\n",
       "      <td>...</td>\n",
       "      <td>...</td>\n",
       "    </tr>\n",
       "    <tr>\n",
       "      <th>6815</th>\n",
       "      <td>2019-04-02</td>\n",
       "      <td>Wow, all you had to do is say \"I know\" somebod...</td>\n",
       "      <td>0.1</td>\n",
       "      <td>0.5859</td>\n",
       "      <td>4.0</td>\n",
       "    </tr>\n",
       "    <tr>\n",
       "      <th>6816</th>\n",
       "      <td>2019-04-02</td>\n",
       "      <td>Check the date.</td>\n",
       "      <td>0.0</td>\n",
       "      <td>0.0000</td>\n",
       "      <td>0.0</td>\n",
       "    </tr>\n",
       "    <tr>\n",
       "      <th>6817</th>\n",
       "      <td>2019-04-02</td>\n",
       "      <td>Check date</td>\n",
       "      <td>0.0</td>\n",
       "      <td>0.0000</td>\n",
       "      <td>0.0</td>\n",
       "    </tr>\n",
       "    <tr>\n",
       "      <th>6818</th>\n",
       "      <td>2019-04-02</td>\n",
       "      <td>Why buy a switch instead of a console...</td>\n",
       "      <td>0.0</td>\n",
       "      <td>0.0000</td>\n",
       "      <td>0.0</td>\n",
       "    </tr>\n",
       "    <tr>\n",
       "      <th>6819</th>\n",
       "      <td>2019-04-01</td>\n",
       "      <td>ok</td>\n",
       "      <td>0.5</td>\n",
       "      <td>0.2960</td>\n",
       "      <td>0.0</td>\n",
       "    </tr>\n",
       "  </tbody>\n",
       "</table>\n",
       "<p>6820 rows × 5 columns</p>\n",
       "</div>"
      ],
      "text/plain": [
       "            date                                              tweet  Polarity  \\\n",
       "0     2020-03-16  please fucking explain to me how this was a bl...      -0.6   \n",
       "1     2020-03-16                                    welcome to 2020       0.8   \n",
       "2     2020-03-15     I think hes a 10, don't worry Simon i got you.       0.0   \n",
       "3     2020-03-14                                                          0.0   \n",
       "4     2020-03-14                                                          0.0   \n",
       "...          ...                                                ...       ...   \n",
       "6815  2019-04-02  Wow, all you had to do is say \"I know\" somebod...       0.1   \n",
       "6816  2019-04-02                                    Check the date.       0.0   \n",
       "6817  2019-04-02                                         Check date       0.0   \n",
       "6818  2019-04-02           Why buy a switch instead of a console...       0.0   \n",
       "6819  2019-04-01                                                 ok       0.5   \n",
       "\n",
       "      VaderScore  AfinnScore  \n",
       "0         0.6705         0.0  \n",
       "1         0.4588         2.0  \n",
       "2         0.3412        -3.0  \n",
       "3         0.0000         0.0  \n",
       "4         0.0000         0.0  \n",
       "...          ...         ...  \n",
       "6815      0.5859         4.0  \n",
       "6816      0.0000         0.0  \n",
       "6817      0.0000         0.0  \n",
       "6818      0.0000         0.0  \n",
       "6819      0.2960         0.0  \n",
       "\n",
       "[6820 rows x 5 columns]"
      ]
     },
     "execution_count": 17,
     "metadata": {},
     "output_type": "execute_result"
    }
   ],
   "source": [
    "df"
   ]
  },
  {
   "cell_type": "markdown",
   "metadata": {},
   "source": [
    "# Scoring the example sentences"
   ]
  },
  {
   "cell_type": "code",
   "execution_count": 18,
   "metadata": {},
   "outputs": [
    {
     "name": "stdout",
     "output_type": "stream",
     "text": [
      "0.0\n",
      "{'neg': 0.0, 'neu': 1.0, 'pos': 0.0, 'compound': 0.0}\n",
      "0.0\n",
      "0.06863636363636365\n",
      "{'neg': 0.058, 'neu': 0.929, 'pos': 0.013, 'compound': -0.6597}\n",
      "-8.0\n"
     ]
    }
   ],
   "source": [
    "s1=\"Keep it up!!\"\n",
    "print(TextBlob(s1).sentiment.polarity)\n",
    "print(sid.polarity_scores(s1))\n",
    "print(af.score(s1))\n",
    "\n",
    "s2=\"\"\"New York City on Tuesday declared a public health emergency and ordered mandatory measles vaccinations amid an outbreak, becoming the latest national flash point over refusals to inoculate against dangerous diseases.\n",
    "\n",
    "At least 285 people have contracted measles in the city since September, mostly in Brooklyn’s Williamsburg neighborhood. The order covers four Zip codes there, Mayor Bill de Blasio (D) said Tuesday.\n",
    "\n",
    "The mandate orders all unvaccinated people in the area, including a concentration of Orthodox Jews, to receive inoculations, including for children as young as 6 months old. Anyone who resists could be fined up to $1,000.\"\"\"\n",
    "\n",
    "print(TextBlob(s2).sentiment.polarity)\n",
    "print(sid.polarity_scores(s2))\n",
    "print(af.score(s2))\n",
    "\n"
   ]
  },
  {
   "cell_type": "code",
   "execution_count": 19,
   "metadata": {},
   "outputs": [
    {
     "name": "stdout",
     "output_type": "stream",
     "text": [
      "0.8 \n",
      " -0.5 \n",
      " 0.0 \n",
      " -0.125 \n",
      " 0.0 \n",
      " 0.5953125 \n",
      " 0.0 \n",
      " 0.0 \n",
      " 0.0 \n",
      "\n",
      "\n",
      "Last sentence' polarity is  -0.034285714285714294\n",
      "-27.0\n"
     ]
    }
   ],
   "source": [
    "#Just a testing of TextBLOB\n",
    "\n",
    "txt1=\"I am happy\"\n",
    "txt2=\"You are sad\"\n",
    "txt3=\"Are you going to play?\"\n",
    "txt4=\"Tiff was extremely depressed at the party\"\n",
    "txt5=\"I was reading a book named Politics\"\n",
    "txt6=\"I got the first prize. Wuhoooo!! I am extremely happy\"\n",
    "txt7=\"I am going to suicide\"\n",
    "txt8=\"Suicide\"\n",
    "txt9=\"Die\"\n",
    "#txt10=\"I was reading a book named Politics\"\n",
    "\n",
    "txt0= \"A letter illness, poem I wrote struggle mental disorder NationalPoetryMonth MentalHealthMonday MentalHealthAwareness MentalHealthMatters bipolardisorder BPDChat 84 men die suicide every single week UK. That's one man taking life every two hours. Men, weak struggling mental illness. You le man.Please suffer silence, world need here! A reminder AprilFools: okay joke suicide, rape, abuse, self harm\"\n",
    "\n",
    "p1= TextBlob(txt1).sentiment.polarity\n",
    "p2= TextBlob(txt2).sentiment.polarity\n",
    "p3= TextBlob(txt3).sentiment.polarity\n",
    "p4= TextBlob(txt4).sentiment.polarity\n",
    "p5= TextBlob(txt5).sentiment.polarity\n",
    "p6= TextBlob(txt6).sentiment.polarity\n",
    "p7= TextBlob(txt7).sentiment.polarity\n",
    "p8= TextBlob(txt8).sentiment.polarity\n",
    "p9= TextBlob(txt9).sentiment.polarity\n",
    "\n",
    "p0= TextBlob(txt0).sentiment.polarity\n",
    "\n",
    "print(p1,\"\\n\",p2,\"\\n\",p3,\"\\n\",p4,\"\\n\",p5,\"\\n\",p6,\"\\n\",p7,\"\\n\",p8,\"\\n\",p9,\"\\n\")\n",
    "\n",
    "\n",
    "print(\"\\nLast sentence' polarity is \", p0)\n",
    "\n",
    "\n",
    "print(af.score(txt0))\n"
   ]
  },
  {
   "cell_type": "code",
   "execution_count": 20,
   "metadata": {},
   "outputs": [
    {
     "name": "stdout",
     "output_type": "stream",
     "text": [
      "Sentence : \n",
      " Do you remember when you joined Twitter? I do! #MyTwitterAnniversary  Who here has heard of #factorfiveleiden ?    I just got diagnosed in July and already have had my second blood clot occurrence. Right now its a #PE in the right lower lobe of my right lung. This is painful and of course, no pain recourse. Tired. Reallllll tired. You fucked it all up... way to go fucktard. \n",
      "\n",
      "TextBLOB Polarity Score :  -0.15535714285714286\n",
      "\n",
      "Vader Sentiment Score :  {'neg': 0.317, 'neu': 0.683, 'pos': 0.0, 'compound': -0.9765}\n",
      "\n",
      "Afinn Score :  -17.0\n"
     ]
    }
   ],
   "source": [
    "sen=\"Do you remember when you joined Twitter? I do! #MyTwitterAnniversary pic.twitter.com/c9VVBmYKuI Who here has heard of #factorfiveleiden ?    I just got diagnosed in July and already have had my second blood clot occurrence. Right now itâ€™s a #PE in the right lower lobe of my right lung. This is painful and of course, no pain recourse. Tired. Reallllll tired. You fucked it all up... way to go fucktard. https://twitter.com/Freeyourmindkid/status/1215481746285846528Â â€¦\"\n",
    "sen=sen.encode(\"ascii\",\"ignore\").decode()\n",
    "\n",
    "#Remove links\n",
    "sen=re.sub(r\"http\\S+\", \"\",sen)\n",
    "sen=re.sub(r\"pic.twitter\\S+\", \"\",sen)\n",
    "\n",
    "#Get SentimentPolarity for each tweet\n",
    "blob_score = TextBlob(sen).sentiment.polarity\n",
    "\n",
    "vader_score = sid.polarity_scores(sen)\n",
    "\n",
    "af_score = af.score(sen)\n",
    "\n",
    "print(\"Sentence : \\n\", sen)\n",
    "\n",
    "print(\"\\nTextBLOB Polarity Score : \", blob_score)\n",
    "\n",
    "print(\"\\nVader Sentiment Score : \", vader_score)\n",
    "\n",
    "print(\"\\nAfinn Score : \", af_score)\n",
    "\n"
   ]
  },
  {
   "cell_type": "code",
   "execution_count": null,
   "metadata": {},
   "outputs": [],
   "source": []
  }
 ],
 "metadata": {
  "kernelspec": {
   "display_name": "Python 3",
   "language": "python",
   "name": "python3"
  },
  "language_info": {
   "codemirror_mode": {
    "name": "ipython",
    "version": 3
   },
   "file_extension": ".py",
   "mimetype": "text/x-python",
   "name": "python",
   "nbconvert_exporter": "python",
   "pygments_lexer": "ipython3",
   "version": "3.7.4"
  }
 },
 "nbformat": 4,
 "nbformat_minor": 2
}
